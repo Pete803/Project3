{
 "cells": [
  {
   "cell_type": "code",
   "execution_count": 45,
   "metadata": {},
   "outputs": [],
   "source": [
    "import pandas as pd\n",
    "from sqlalchemy import create_engine"
   ]
  },
  {
   "cell_type": "markdown",
   "metadata": {
    "slideshow": {
     "slide_type": "-"
    }
   },
   "source": [
    "### Store CSV into DataFrame"
   ]
  },
  {
   "cell_type": "code",
   "execution_count": 46,
   "metadata": {
    "scrolled": true
   },
   "outputs": [
    {
     "data": {
      "text/html": [
       "<div>\n",
       "<style scoped>\n",
       "    .dataframe tbody tr th:only-of-type {\n",
       "        vertical-align: middle;\n",
       "    }\n",
       "\n",
       "    .dataframe tbody tr th {\n",
       "        vertical-align: top;\n",
       "    }\n",
       "\n",
       "    .dataframe thead th {\n",
       "        text-align: right;\n",
       "    }\n",
       "</style>\n",
       "<table border=\"1\" class=\"dataframe\">\n",
       "  <thead>\n",
       "    <tr style=\"text-align: right;\">\n",
       "      <th></th>\n",
       "      <th>loan_amount</th>\n",
       "      <th>city</th>\n",
       "      <th>zip</th>\n",
       "      <th>naics_code</th>\n",
       "      <th>business_type</th>\n",
       "      <th>lender</th>\n",
       "      <th>cd</th>\n",
       "    </tr>\n",
       "  </thead>\n",
       "  <tbody>\n",
       "    <tr>\n",
       "      <th>0</th>\n",
       "      <td>149985</td>\n",
       "      <td>Richmond</td>\n",
       "      <td>23224</td>\n",
       "      <td>Administrative, Support, Waste Management &amp; Re...</td>\n",
       "      <td>Partnership</td>\n",
       "      <td>Manufacturers and Traders Trust Company</td>\n",
       "      <td>VA-07</td>\n",
       "    </tr>\n",
       "    <tr>\n",
       "      <th>1</th>\n",
       "      <td>149932</td>\n",
       "      <td>HENRICO</td>\n",
       "      <td>23294</td>\n",
       "      <td>Arts, Entertainment &amp; Recreation</td>\n",
       "      <td>Limited  Liability Company(LLC)</td>\n",
       "      <td>The Freedom Bank of Virginia</td>\n",
       "      <td>VA-07</td>\n",
       "    </tr>\n",
       "    <tr>\n",
       "      <th>2</th>\n",
       "      <td>149914</td>\n",
       "      <td>VIRGINIA BEACH</td>\n",
       "      <td>23457</td>\n",
       "      <td>Construction</td>\n",
       "      <td>Subchapter S Corporation</td>\n",
       "      <td>Wells Fargo Bank, National Association</td>\n",
       "      <td>VA-02</td>\n",
       "    </tr>\n",
       "    <tr>\n",
       "      <th>3</th>\n",
       "      <td>149900</td>\n",
       "      <td>Charlottesville</td>\n",
       "      <td>22903</td>\n",
       "      <td>Other services except Public Administration</td>\n",
       "      <td>Limited  Liability Company(LLC)</td>\n",
       "      <td>Blue Ridge Bank, National Association</td>\n",
       "      <td>VA-05</td>\n",
       "    </tr>\n",
       "    <tr>\n",
       "      <th>4</th>\n",
       "      <td>149900</td>\n",
       "      <td>HARRISONBURG</td>\n",
       "      <td>22802</td>\n",
       "      <td>Health Care &amp; Social Assistance</td>\n",
       "      <td>Non-Profit Organization</td>\n",
       "      <td>Summit Community Bank, Inc.</td>\n",
       "      <td>VA-06</td>\n",
       "    </tr>\n",
       "    <tr>\n",
       "      <th>...</th>\n",
       "      <td>...</td>\n",
       "      <td>...</td>\n",
       "      <td>...</td>\n",
       "      <td>...</td>\n",
       "      <td>...</td>\n",
       "      <td>...</td>\n",
       "      <td>...</td>\n",
       "    </tr>\n",
       "    <tr>\n",
       "      <th>98403</th>\n",
       "      <td>27</td>\n",
       "      <td>MANASSAS PARK</td>\n",
       "      <td>20111</td>\n",
       "      <td>Administrative, Support, Waste Management &amp; Re...</td>\n",
       "      <td>Limited  Liability Company(LLC)</td>\n",
       "      <td>Bank of America, National Association</td>\n",
       "      <td>VA-10</td>\n",
       "    </tr>\n",
       "    <tr>\n",
       "      <th>98404</th>\n",
       "      <td>25</td>\n",
       "      <td>ALEXANDRIA</td>\n",
       "      <td>22305</td>\n",
       "      <td>Other services except Public Administration</td>\n",
       "      <td>Limited  Liability Company(LLC)</td>\n",
       "      <td>Bank of America, National Association</td>\n",
       "      <td>VA-08</td>\n",
       "    </tr>\n",
       "    <tr>\n",
       "      <th>98405</th>\n",
       "      <td>25</td>\n",
       "      <td>ARLINGTON</td>\n",
       "      <td>22204</td>\n",
       "      <td>Construction</td>\n",
       "      <td>Limited  Liability Company(LLC)</td>\n",
       "      <td>Wells Fargo Bank, National Association</td>\n",
       "      <td>VA-08</td>\n",
       "    </tr>\n",
       "    <tr>\n",
       "      <th>98406</th>\n",
       "      <td>25</td>\n",
       "      <td>CHANTILLY</td>\n",
       "      <td>20152</td>\n",
       "      <td>Retail Trade</td>\n",
       "      <td>Limited  Liability Company(LLC)</td>\n",
       "      <td>Bank of America, National Association</td>\n",
       "      <td>VA-10</td>\n",
       "    </tr>\n",
       "    <tr>\n",
       "      <th>98407</th>\n",
       "      <td>5</td>\n",
       "      <td>WOODBRIDGE</td>\n",
       "      <td>22193</td>\n",
       "      <td>Administrative, Support, Waste Management &amp; Re...</td>\n",
       "      <td>Limited  Liability Company(LLC)</td>\n",
       "      <td>Wells Fargo Bank, National Association</td>\n",
       "      <td>VA-11</td>\n",
       "    </tr>\n",
       "  </tbody>\n",
       "</table>\n",
       "<p>98408 rows × 7 columns</p>\n",
       "</div>"
      ],
      "text/plain": [
       "       loan_amount             city    zip  \\\n",
       "0           149985         Richmond  23224   \n",
       "1           149932          HENRICO  23294   \n",
       "2           149914   VIRGINIA BEACH  23457   \n",
       "3           149900  Charlottesville  22903   \n",
       "4           149900     HARRISONBURG  22802   \n",
       "...            ...              ...    ...   \n",
       "98403           27    MANASSAS PARK  20111   \n",
       "98404           25       ALEXANDRIA  22305   \n",
       "98405           25        ARLINGTON  22204   \n",
       "98406           25        CHANTILLY  20152   \n",
       "98407            5       WOODBRIDGE  22193   \n",
       "\n",
       "                                              naics_code  \\\n",
       "0      Administrative, Support, Waste Management & Re...   \n",
       "1                       Arts, Entertainment & Recreation   \n",
       "2                                           Construction   \n",
       "3            Other services except Public Administration   \n",
       "4                        Health Care & Social Assistance   \n",
       "...                                                  ...   \n",
       "98403  Administrative, Support, Waste Management & Re...   \n",
       "98404        Other services except Public Administration   \n",
       "98405                                       Construction   \n",
       "98406                                       Retail Trade   \n",
       "98407  Administrative, Support, Waste Management & Re...   \n",
       "\n",
       "                         business_type  \\\n",
       "0                          Partnership   \n",
       "1      Limited  Liability Company(LLC)   \n",
       "2             Subchapter S Corporation   \n",
       "3      Limited  Liability Company(LLC)   \n",
       "4              Non-Profit Organization   \n",
       "...                                ...   \n",
       "98403  Limited  Liability Company(LLC)   \n",
       "98404  Limited  Liability Company(LLC)   \n",
       "98405  Limited  Liability Company(LLC)   \n",
       "98406  Limited  Liability Company(LLC)   \n",
       "98407  Limited  Liability Company(LLC)   \n",
       "\n",
       "                                        lender     cd  \n",
       "0      Manufacturers and Traders Trust Company  VA-07  \n",
       "1                 The Freedom Bank of Virginia  VA-07  \n",
       "2       Wells Fargo Bank, National Association  VA-02  \n",
       "3        Blue Ridge Bank, National Association  VA-05  \n",
       "4                  Summit Community Bank, Inc.  VA-06  \n",
       "...                                        ...    ...  \n",
       "98403    Bank of America, National Association  VA-10  \n",
       "98404    Bank of America, National Association  VA-08  \n",
       "98405   Wells Fargo Bank, National Association  VA-08  \n",
       "98406    Bank of America, National Association  VA-10  \n",
       "98407   Wells Fargo Bank, National Association  VA-11  \n",
       "\n",
       "[98408 rows x 7 columns]"
      ]
     },
     "execution_count": 46,
     "metadata": {},
     "output_type": "execute_result"
    }
   ],
   "source": [
    "csv_file = \"Data/ppp_data.csv\"\n",
    "ppp_df = pd.read_csv(csv_file)\n",
    "ppp_df"
   ]
  },
  {
   "cell_type": "markdown",
   "metadata": {},
   "source": [
    "### Connect to local database"
   ]
  },
  {
   "cell_type": "code",
   "execution_count": 15,
   "metadata": {},
   "outputs": [],
   "source": [
    "rds_connection_string = \"postgres:1234@localhost:5432/ppp_data\"\n",
    "engine = create_engine(f'postgresql://{rds_connection_string}')"
   ]
  },
  {
   "cell_type": "markdown",
   "metadata": {},
   "source": [
    "### Check for tables"
   ]
  },
  {
   "cell_type": "code",
   "execution_count": 16,
   "metadata": {},
   "outputs": [
    {
     "data": {
      "text/plain": [
       "['ppp_data']"
      ]
     },
     "execution_count": 16,
     "metadata": {},
     "output_type": "execute_result"
    }
   ],
   "source": [
    "engine.table_names()"
   ]
  },
  {
   "cell_type": "markdown",
   "metadata": {},
   "source": [
    "### Virginia - Create new data with select columns"
   ]
  },
  {
   "cell_type": "code",
   "execution_count": 23,
   "metadata": {},
   "outputs": [],
   "source": [
    "ppp_df.to_sql(name='ppp_df', con=engine, if_exists='append', index=False)"
   ]
  },
  {
   "cell_type": "markdown",
   "metadata": {},
   "source": [
    "### Confirm data has been added by querying the ppp_data table"
   ]
  },
  {
   "cell_type": "code",
   "execution_count": 24,
   "metadata": {},
   "outputs": [
    {
     "data": {
      "text/html": [
       "<div>\n",
       "<style scoped>\n",
       "    .dataframe tbody tr th:only-of-type {\n",
       "        vertical-align: middle;\n",
       "    }\n",
       "\n",
       "    .dataframe tbody tr th {\n",
       "        vertical-align: top;\n",
       "    }\n",
       "\n",
       "    .dataframe thead th {\n",
       "        text-align: right;\n",
       "    }\n",
       "</style>\n",
       "<table border=\"1\" class=\"dataframe\">\n",
       "  <thead>\n",
       "    <tr style=\"text-align: right;\">\n",
       "      <th></th>\n",
       "      <th>loan_amount</th>\n",
       "      <th>city</th>\n",
       "      <th>zip</th>\n",
       "      <th>naics_code</th>\n",
       "      <th>business_type</th>\n",
       "      <th>lender</th>\n",
       "      <th>cd</th>\n",
       "    </tr>\n",
       "  </thead>\n",
       "  <tbody>\n",
       "    <tr>\n",
       "      <th>0</th>\n",
       "      <td>$149,985</td>\n",
       "      <td>Richmond</td>\n",
       "      <td>23224</td>\n",
       "      <td>Administrative, Support, Waste Management &amp; Re...</td>\n",
       "      <td>Partnership</td>\n",
       "      <td>Manufacturers and Traders Trust Company</td>\n",
       "      <td>VA-07</td>\n",
       "    </tr>\n",
       "    <tr>\n",
       "      <th>1</th>\n",
       "      <td>$149,932</td>\n",
       "      <td>HENRICO</td>\n",
       "      <td>23294</td>\n",
       "      <td>Arts, Entertainment &amp; Recreation</td>\n",
       "      <td>Limited  Liability Company(LLC)</td>\n",
       "      <td>The Freedom Bank of Virginia</td>\n",
       "      <td>VA-07</td>\n",
       "    </tr>\n",
       "    <tr>\n",
       "      <th>2</th>\n",
       "      <td>$149,914</td>\n",
       "      <td>VIRGINIA BEACH</td>\n",
       "      <td>23457</td>\n",
       "      <td>Construction</td>\n",
       "      <td>Subchapter S Corporation</td>\n",
       "      <td>Wells Fargo Bank, National Association</td>\n",
       "      <td>VA-02</td>\n",
       "    </tr>\n",
       "    <tr>\n",
       "      <th>3</th>\n",
       "      <td>$149,900</td>\n",
       "      <td>Charlottesville</td>\n",
       "      <td>22903</td>\n",
       "      <td>Other services except Public Administration</td>\n",
       "      <td>Limited  Liability Company(LLC)</td>\n",
       "      <td>Blue Ridge Bank, National Association</td>\n",
       "      <td>VA-05</td>\n",
       "    </tr>\n",
       "    <tr>\n",
       "      <th>4</th>\n",
       "      <td>$149,900</td>\n",
       "      <td>HARRISONBURG</td>\n",
       "      <td>22802</td>\n",
       "      <td>Health Care &amp; Social Assistance</td>\n",
       "      <td>Non-Profit Organization</td>\n",
       "      <td>Summit Community Bank, Inc.</td>\n",
       "      <td>VA-06</td>\n",
       "    </tr>\n",
       "  </tbody>\n",
       "</table>\n",
       "</div>"
      ],
      "text/plain": [
       "   loan_amount              city    zip  \\\n",
       "0     $149,985          Richmond  23224   \n",
       "1     $149,932           HENRICO  23294   \n",
       "2     $149,914    VIRGINIA BEACH  23457   \n",
       "3     $149,900   Charlottesville  22903   \n",
       "4     $149,900      HARRISONBURG  22802   \n",
       "\n",
       "                                          naics_code  \\\n",
       "0  Administrative, Support, Waste Management & Re...   \n",
       "1                   Arts, Entertainment & Recreation   \n",
       "2                                       Construction   \n",
       "3        Other services except Public Administration   \n",
       "4                    Health Care & Social Assistance   \n",
       "\n",
       "                     business_type                                   lender  \\\n",
       "0                      Partnership  Manufacturers and Traders Trust Company   \n",
       "1  Limited  Liability Company(LLC)             The Freedom Bank of Virginia   \n",
       "2         Subchapter S Corporation   Wells Fargo Bank, National Association   \n",
       "3  Limited  Liability Company(LLC)    Blue Ridge Bank, National Association   \n",
       "4          Non-Profit Organization              Summit Community Bank, Inc.   \n",
       "\n",
       "      cd  \n",
       "0  VA-07  \n",
       "1  VA-07  \n",
       "2  VA-02  \n",
       "3  VA-05  \n",
       "4  VA-06  "
      ]
     },
     "execution_count": 24,
     "metadata": {},
     "output_type": "execute_result"
    }
   ],
   "source": [
    "pd.read_sql_query('select * from ppp_df', con=engine).head()"
   ]
  },
  {
   "cell_type": "code",
   "execution_count": 47,
   "metadata": {},
   "outputs": [
    {
     "data": {
      "text/plain": [
       "98408"
      ]
     },
     "execution_count": 47,
     "metadata": {},
     "output_type": "execute_result"
    }
   ],
   "source": [
    "len(list(ppp_df[\"cd\"].values))"
   ]
  },
  {
   "cell_type": "code",
   "execution_count": 48,
   "metadata": {},
   "outputs": [
    {
     "data": {
      "text/plain": [
       "19"
      ]
     },
     "execution_count": 48,
     "metadata": {},
     "output_type": "execute_result"
    }
   ],
   "source": [
    "len(set(ppp_df[\"cd\"].values))"
   ]
  },
  {
   "cell_type": "code",
   "execution_count": 49,
   "metadata": {},
   "outputs": [
    {
     "data": {
      "text/plain": [
       "['VA-01',\n",
       " 'VA-02',\n",
       " 'VA-03',\n",
       " 'VA-04',\n",
       " 'VA-05',\n",
       " 'VA-06',\n",
       " 'VA-07',\n",
       " 'VA-08',\n",
       " 'VA-09',\n",
       " 'VA-10',\n",
       " 'VA-11']"
      ]
     },
     "execution_count": 49,
     "metadata": {},
     "output_type": "execute_result"
    }
   ],
   "source": [
    "ppp_va = sorted(list(set(ppp_df[\"cd\"].values))[1:])[6:-1]\n",
    "ppp_va"
   ]
  },
  {
   "cell_type": "code",
   "execution_count": 55,
   "metadata": {},
   "outputs": [
    {
     "data": {
      "text/plain": [
       "[{'y': 245123079, 'label': 'VA-01'},\n",
       " {'y': 265217455, 'label': 'VA-02'},\n",
       " {'y': 190516757, 'label': 'VA-03'},\n",
       " {'y': 257982591, 'label': 'VA-04'},\n",
       " {'y': 296615520, 'label': 'VA-05'},\n",
       " {'y': 243769129, 'label': 'VA-06'},\n",
       " {'y': 437968361, 'label': 'VA-07'},\n",
       " {'y': 321780571, 'label': 'VA-08'},\n",
       " {'y': 187991464, 'label': 'VA-09'},\n",
       " {'y': 551924420, 'label': 'VA-10'},\n",
       " {'y': 359333838, 'label': 'VA-11'}]"
      ]
     },
     "execution_count": 55,
     "metadata": {},
     "output_type": "execute_result"
    }
   ],
   "source": [
    "cd_data = []\n",
    "\n",
    "for cd in ppp_va:\n",
    "    cd_list = list(ppp_df[ppp_df[\"cd\"]==cd][\"loan_amount\"].values)\n",
    "    cleaned_cd_list = [loan for loan in cd_list if str(loan) != 'nan']\n",
    "    cd_total = sum(cleaned_cd_list)\n",
    "    cd_dict = {\n",
    "        \"y\":cd_total,\n",
    "        \"label\":cd,\n",
    "    } \n",
    "    cd_data.append(cd_dict)\n",
    "\n",
    "cd_data"
   ]
  },
  {
   "cell_type": "code",
   "execution_count": null,
   "metadata": {},
   "outputs": [],
   "source": []
  }
 ],
 "metadata": {
  "kernelspec": {
   "display_name": "Python 3",
   "language": "python",
   "name": "python3"
  },
  "language_info": {
   "codemirror_mode": {
    "name": "ipython",
    "version": 3
   },
   "file_extension": ".py",
   "mimetype": "text/x-python",
   "name": "python",
   "nbconvert_exporter": "python",
   "pygments_lexer": "ipython3",
   "version": "3.8.3"
  },
  "nteract": {
   "version": "0.12.3"
  }
 },
 "nbformat": 4,
 "nbformat_minor": 2
}
